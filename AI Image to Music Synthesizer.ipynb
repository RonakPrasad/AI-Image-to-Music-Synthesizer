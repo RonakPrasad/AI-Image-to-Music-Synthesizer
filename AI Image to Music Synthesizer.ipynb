{
 "cells": [
  {
   "cell_type": "code",
   "execution_count": 3,
   "metadata": {},
   "outputs": [
    {
     "name": "stdout",
     "output_type": "stream",
     "text": [
      "Requirement already satisfied: numpy in c:\\users\\ronak\\appdata\\local\\programs\\python\\python310\\lib\\site-packages (1.23.3)Note: you may need to restart the kernel to use updated packages.\n",
      "\n"
     ]
    },
    {
     "name": "stderr",
     "output_type": "stream",
     "text": [
      "\n",
      "[notice] A new release of pip is available: 23.0 -> 23.1.2\n",
      "[notice] To update, run: python.exe -m pip install --upgrade pip\n"
     ]
    }
   ],
   "source": [
    "pip install numpy"
   ]
  },
  {
   "cell_type": "code",
   "execution_count": 2,
   "metadata": {},
   "outputs": [
    {
     "name": "stdout",
     "output_type": "stream",
     "text": [
      "Collecting gradio\n",
      "  Downloading gradio-3.35.2-py3-none-any.whl (19.7 MB)\n",
      "     ---------------------------------------- 0.0/19.7 MB ? eta -:--:--\n",
      "     ---------------------------------------- 0.0/19.7 MB ? eta -:--:--\n",
      "     --------------------------------------- 0.1/19.7 MB 787.7 kB/s eta 0:00:25\n",
      "     --------------------------------------- 0.2/19.7 MB 919.0 kB/s eta 0:00:22\n",
      "      --------------------------------------- 0.3/19.7 MB 1.3 MB/s eta 0:00:16\n",
      "      --------------------------------------- 0.3/19.7 MB 1.0 MB/s eta 0:00:19\n",
      "      --------------------------------------- 0.5/19.7 MB 1.2 MB/s eta 0:00:16\n",
      "     - -------------------------------------- 0.8/19.7 MB 1.7 MB/s eta 0:00:12\n",
      "     -- ------------------------------------- 1.0/19.7 MB 1.8 MB/s eta 0:00:11\n",
      "     -- ------------------------------------- 1.2/19.7 MB 1.9 MB/s eta 0:00:10\n",
      "     -- ------------------------------------- 1.3/19.7 MB 1.9 MB/s eta 0:00:10\n",
      "     -- ------------------------------------- 1.4/19.7 MB 2.0 MB/s eta 0:00:10\n",
      "     -- ------------------------------------- 1.4/19.7 MB 1.8 MB/s eta 0:00:10\n",
      "     --- ------------------------------------ 1.6/19.7 MB 1.8 MB/s eta 0:00:11\n",
      "     --- ------------------------------------ 1.8/19.7 MB 1.9 MB/s eta 0:00:10\n",
      "     --- ------------------------------------ 1.9/19.7 MB 1.9 MB/s eta 0:00:10\n",
      "     ---- ----------------------------------- 2.2/19.7 MB 2.0 MB/s eta 0:00:09\n",
      "     ---- ----------------------------------- 2.4/19.7 MB 2.1 MB/s eta 0:00:09\n",
      "     ----- ---------------------------------- 2.7/19.7 MB 2.1 MB/s eta 0:00:09\n",
      "     ------ --------------------------------- 3.1/19.7 MB 2.3 MB/s eta 0:00:08\n",
      "     ------ --------------------------------- 3.1/19.7 MB 2.3 MB/s eta 0:00:08\n",
      "     ------ --------------------------------- 3.4/19.7 MB 2.3 MB/s eta 0:00:08\n",
      "     ------- -------------------------------- 3.6/19.7 MB 2.3 MB/s eta 0:00:07\n",
      "     ------- -------------------------------- 3.6/19.7 MB 2.3 MB/s eta 0:00:07\n",
      "     ------- -------------------------------- 3.8/19.7 MB 2.3 MB/s eta 0:00:07\n",
      "     ------- -------------------------------- 3.8/19.7 MB 2.3 MB/s eta 0:00:07\n",
      "     -------- ------------------------------- 4.0/19.7 MB 2.2 MB/s eta 0:00:07\n",
      "     -------- ------------------------------- 4.1/19.7 MB 2.3 MB/s eta 0:00:07\n",
      "     --------- ------------------------------ 4.5/19.7 MB 2.3 MB/s eta 0:00:07\n",
      "     --------- ------------------------------ 4.5/19.7 MB 2.3 MB/s eta 0:00:07\n",
      "     --------- ------------------------------ 4.8/19.7 MB 2.3 MB/s eta 0:00:07\n",
      "     ---------- ----------------------------- 5.0/19.7 MB 2.4 MB/s eta 0:00:07\n",
      "     ---------- ----------------------------- 5.3/19.7 MB 2.4 MB/s eta 0:00:06\n",
      "     ----------- ---------------------------- 5.6/19.7 MB 2.5 MB/s eta 0:00:06\n",
      "     ----------- ---------------------------- 5.7/19.7 MB 2.5 MB/s eta 0:00:06\n",
      "     ----------- ---------------------------- 5.8/19.7 MB 2.4 MB/s eta 0:00:06\n",
      "     ------------ --------------------------- 5.9/19.7 MB 2.4 MB/s eta 0:00:06\n",
      "     ------------ --------------------------- 6.3/19.7 MB 2.5 MB/s eta 0:00:06\n",
      "     ------------ --------------------------- 6.3/19.7 MB 2.5 MB/s eta 0:00:06\n",
      "     ------------- -------------------------- 6.5/19.7 MB 2.5 MB/s eta 0:00:06\n",
      "     ------------- -------------------------- 6.5/19.7 MB 2.5 MB/s eta 0:00:06\n",
      "     ------------- -------------------------- 6.6/19.7 MB 2.4 MB/s eta 0:00:06\n",
      "     ------------- -------------------------- 6.7/19.7 MB 2.5 MB/s eta 0:00:06\n",
      "     ------------- -------------------------- 6.8/19.7 MB 2.4 MB/s eta 0:00:06\n",
      "     ------------- -------------------------- 6.9/19.7 MB 2.4 MB/s eta 0:00:06\n",
      "     -------------- ------------------------- 6.9/19.7 MB 2.4 MB/s eta 0:00:06\n",
      "     -------------- ------------------------- 7.0/19.7 MB 2.4 MB/s eta 0:00:06\n",
      "     -------------- ------------------------- 7.1/19.7 MB 2.4 MB/s eta 0:00:06\n",
      "     -------------- ------------------------- 7.2/19.7 MB 2.4 MB/s eta 0:00:06\n",
      "     -------------- ------------------------- 7.3/19.7 MB 2.3 MB/s eta 0:00:06\n",
      "     -------------- ------------------------- 7.3/19.7 MB 2.3 MB/s eta 0:00:06\n",
      "     --------------- ------------------------ 7.4/19.7 MB 2.3 MB/s eta 0:00:06\n",
      "     --------------- ------------------------ 7.5/19.7 MB 2.3 MB/s eta 0:00:06\n",
      "     --------------- ------------------------ 7.6/19.7 MB 2.3 MB/s eta 0:00:06\n",
      "     --------------- ------------------------ 7.7/19.7 MB 2.3 MB/s eta 0:00:06\n",
      "     --------------- ------------------------ 7.8/19.7 MB 2.3 MB/s eta 0:00:06\n",
      "     ---------------- ----------------------- 7.9/19.7 MB 2.3 MB/s eta 0:00:06\n",
      "     ---------------- ----------------------- 8.0/19.7 MB 2.3 MB/s eta 0:00:06\n",
      "     ---------------- ----------------------- 8.1/19.7 MB 2.3 MB/s eta 0:00:06\n",
      "     ---------------- ----------------------- 8.2/19.7 MB 2.3 MB/s eta 0:00:06\n",
      "     ---------------- ----------------------- 8.2/19.7 MB 2.3 MB/s eta 0:00:06\n",
      "     ---------------- ----------------------- 8.3/19.7 MB 2.2 MB/s eta 0:00:06\n",
      "     ---------------- ----------------------- 8.4/19.7 MB 2.2 MB/s eta 0:00:06\n",
      "     ---------------- ----------------------- 8.4/19.7 MB 2.2 MB/s eta 0:00:06\n",
      "     ---------------- ----------------------- 8.4/19.7 MB 2.2 MB/s eta 0:00:06\n",
      "     ---------------- ----------------------- 8.4/19.7 MB 2.1 MB/s eta 0:00:06\n",
      "     ----------------- ---------------------- 8.4/19.7 MB 2.1 MB/s eta 0:00:06\n",
      "     ----------------- ---------------------- 8.6/19.7 MB 2.1 MB/s eta 0:00:06\n",
      "     ----------------- ---------------------- 8.6/19.7 MB 2.1 MB/s eta 0:00:06\n",
      "     ----------------- ---------------------- 8.6/19.7 MB 2.1 MB/s eta 0:00:06\n",
      "     ----------------- ---------------------- 8.6/19.7 MB 2.1 MB/s eta 0:00:06\n",
      "     ----------------- ---------------------- 8.6/19.7 MB 2.1 MB/s eta 0:00:06\n",
      "     ----------------- ---------------------- 8.9/19.7 MB 2.0 MB/s eta 0:00:06\n",
      "     ------------------ --------------------- 9.0/19.7 MB 2.0 MB/s eta 0:00:06\n",
      "     ------------------ --------------------- 9.1/19.7 MB 2.0 MB/s eta 0:00:06\n",
      "     ------------------ --------------------- 9.1/19.7 MB 2.0 MB/s eta 0:00:06\n",
      "     ------------------ --------------------- 9.2/19.7 MB 2.0 MB/s eta 0:00:06\n",
      "     ------------------ --------------------- 9.3/19.7 MB 2.0 MB/s eta 0:00:06\n",
      "     ------------------ --------------------- 9.3/19.7 MB 2.0 MB/s eta 0:00:06\n",
      "     ------------------- -------------------- 9.6/19.7 MB 2.0 MB/s eta 0:00:06\n",
      "     ------------------- -------------------- 9.7/19.7 MB 2.0 MB/s eta 0:00:05\n",
      "     ------------------- -------------------- 9.8/19.7 MB 2.0 MB/s eta 0:00:05\n",
      "     -------------------- ------------------- 9.9/19.7 MB 2.0 MB/s eta 0:00:05\n",
      "     -------------------- ------------------- 10.1/19.7 MB 2.0 MB/s eta 0:00:05\n",
      "     -------------------- ------------------- 10.2/19.7 MB 2.0 MB/s eta 0:00:05\n",
      "     --------------------- ------------------ 10.4/19.7 MB 2.1 MB/s eta 0:00:05\n",
      "     --------------------- ------------------ 10.4/19.7 MB 2.1 MB/s eta 0:00:05\n",
      "     --------------------- ------------------ 10.6/19.7 MB 2.1 MB/s eta 0:00:05\n",
      "     --------------------- ------------------ 10.8/19.7 MB 2.1 MB/s eta 0:00:05\n",
      "     ---------------------- ----------------- 11.0/19.7 MB 2.1 MB/s eta 0:00:05\n",
      "     ---------------------- ----------------- 11.1/19.7 MB 2.1 MB/s eta 0:00:05\n",
      "     ---------------------- ----------------- 11.3/19.7 MB 2.1 MB/s eta 0:00:05\n",
      "     ----------------------- ---------------- 11.6/19.7 MB 2.1 MB/s eta 0:00:04\n",
      "     ----------------------- ---------------- 11.8/19.7 MB 2.1 MB/s eta 0:00:04\n",
      "     ------------------------ --------------- 11.9/19.7 MB 2.1 MB/s eta 0:00:04\n",
      "     ------------------------ --------------- 12.1/19.7 MB 2.1 MB/s eta 0:00:04\n",
      "     ------------------------ --------------- 12.2/19.7 MB 2.1 MB/s eta 0:00:04\n",
      "     ------------------------ --------------- 12.3/19.7 MB 2.1 MB/s eta 0:00:04\n",
      "     ------------------------- -------------- 12.4/19.7 MB 2.1 MB/s eta 0:00:04\n",
      "     ------------------------- -------------- 12.6/19.7 MB 2.1 MB/s eta 0:00:04\n",
      "     ------------------------- -------------- 12.8/19.7 MB 2.2 MB/s eta 0:00:04\n",
      "     ------------------------- -------------- 12.8/19.7 MB 2.2 MB/s eta 0:00:04\n",
      "     -------------------------- ------------- 13.0/19.7 MB 2.1 MB/s eta 0:00:04\n",
      "     -------------------------- ------------- 13.1/19.7 MB 2.1 MB/s eta 0:00:04\n",
      "     -------------------------- ------------- 13.1/19.7 MB 2.1 MB/s eta 0:00:04\n",
      "     -------------------------- ------------- 13.3/19.7 MB 2.1 MB/s eta 0:00:04\n",
      "     -------------------------- ------------- 13.3/19.7 MB 2.1 MB/s eta 0:00:04\n",
      "     --------------------------- ------------ 13.5/19.7 MB 2.1 MB/s eta 0:00:03\n",
      "     --------------------------- ------------ 13.7/19.7 MB 2.1 MB/s eta 0:00:03\n",
      "     --------------------------- ------------ 13.8/19.7 MB 2.1 MB/s eta 0:00:03\n",
      "     ---------------------------- ----------- 14.0/19.7 MB 2.1 MB/s eta 0:00:03\n",
      "     ---------------------------- ----------- 14.1/19.7 MB 2.1 MB/s eta 0:00:03\n",
      "     ---------------------------- ----------- 14.2/19.7 MB 2.1 MB/s eta 0:00:03\n",
      "     ----------------------------- ---------- 14.4/19.7 MB 2.1 MB/s eta 0:00:03\n",
      "     ----------------------------- ---------- 14.6/19.7 MB 2.1 MB/s eta 0:00:03\n",
      "     ------------------------------ --------- 14.8/19.7 MB 2.1 MB/s eta 0:00:03\n",
      "     ------------------------------ --------- 15.0/19.7 MB 2.1 MB/s eta 0:00:03\n",
      "     ------------------------------ --------- 15.1/19.7 MB 2.1 MB/s eta 0:00:03\n",
      "     ------------------------------ --------- 15.3/19.7 MB 2.1 MB/s eta 0:00:03\n",
      "     ------------------------------- -------- 15.5/19.7 MB 2.1 MB/s eta 0:00:03\n",
      "     ------------------------------- -------- 15.6/19.7 MB 2.1 MB/s eta 0:00:02\n",
      "     ------------------------------- -------- 15.7/19.7 MB 2.1 MB/s eta 0:00:02\n",
      "     -------------------------------- ------- 15.9/19.7 MB 2.1 MB/s eta 0:00:02\n",
      "     -------------------------------- ------- 16.0/19.7 MB 2.2 MB/s eta 0:00:02\n",
      "     -------------------------------- ------- 16.3/19.7 MB 2.2 MB/s eta 0:00:02\n",
      "     --------------------------------- ------ 16.4/19.7 MB 2.1 MB/s eta 0:00:02\n",
      "     --------------------------------- ------ 16.5/19.7 MB 2.2 MB/s eta 0:00:02\n",
      "     --------------------------------- ------ 16.7/19.7 MB 2.2 MB/s eta 0:00:02\n",
      "     --------------------------------- ------ 16.7/19.7 MB 2.2 MB/s eta 0:00:02\n",
      "     ---------------------------------- ----- 16.9/19.7 MB 2.2 MB/s eta 0:00:02\n",
      "     ---------------------------------- ----- 17.0/19.7 MB 2.2 MB/s eta 0:00:02\n",
      "     ---------------------------------- ----- 17.2/19.7 MB 2.2 MB/s eta 0:00:02\n",
      "     ---------------------------------- ----- 17.3/19.7 MB 2.2 MB/s eta 0:00:02\n",
      "     ----------------------------------- ---- 17.4/19.7 MB 2.2 MB/s eta 0:00:02\n",
      "     ----------------------------------- ---- 17.6/19.7 MB 2.3 MB/s eta 0:00:01\n",
      "     ----------------------------------- ---- 17.8/19.7 MB 2.3 MB/s eta 0:00:01\n",
      "     ------------------------------------ --- 17.8/19.7 MB 2.3 MB/s eta 0:00:01\n",
      "     ------------------------------------ --- 18.0/19.7 MB 2.3 MB/s eta 0:00:01\n",
      "     ------------------------------------ --- 18.0/19.7 MB 2.3 MB/s eta 0:00:01\n",
      "     ------------------------------------ --- 18.2/19.7 MB 2.3 MB/s eta 0:00:01\n",
      "     ------------------------------------- -- 18.4/19.7 MB 2.3 MB/s eta 0:00:01\n",
      "     ------------------------------------- -- 18.4/19.7 MB 2.3 MB/s eta 0:00:01\n",
      "     ------------------------------------- -- 18.5/19.7 MB 2.4 MB/s eta 0:00:01\n",
      "     ------------------------------------- -- 18.5/19.7 MB 2.4 MB/s eta 0:00:01\n",
      "     ------------------------------------- -- 18.7/19.7 MB 2.5 MB/s eta 0:00:01\n",
      "     -------------------------------------- - 19.0/19.7 MB 2.7 MB/s eta 0:00:01\n",
      "     -------------------------------------- - 19.0/19.7 MB 2.7 MB/s eta 0:00:01\n",
      "     ---------------------------------------  19.3/19.7 MB 2.7 MB/s eta 0:00:01\n",
      "     ---------------------------------------  19.3/19.7 MB 2.7 MB/s eta 0:00:01\n",
      "     ---------------------------------------  19.6/19.7 MB 2.8 MB/s eta 0:00:01\n",
      "     ---------------------------------------  19.7/19.7 MB 2.7 MB/s eta 0:00:01\n",
      "     ---------------------------------------  19.7/19.7 MB 2.7 MB/s eta 0:00:01\n",
      "     ---------------------------------------- 19.7/19.7 MB 2.7 MB/s eta 0:00:00\n",
      "Collecting aiofiles\n",
      "  Using cached aiofiles-23.1.0-py3-none-any.whl (14 kB)\n",
      "Collecting mdit-py-plugins<=0.3.3\n",
      "  Using cached mdit_py_plugins-0.3.3-py3-none-any.whl (50 kB)\n",
      "Collecting altair>=4.2.0\n",
      "  Using cached altair-5.0.1-py3-none-any.whl (471 kB)\n",
      "Requirement already satisfied: pillow in c:\\users\\ronak\\appdata\\local\\programs\\python\\python310\\lib\\site-packages (from gradio) (9.2.0)\n",
      "Collecting markdown-it-py[linkify]>=2.0.0\n",
      "  Using cached markdown_it_py-3.0.0-py3-none-any.whl (87 kB)\n",
      "Collecting fastapi\n",
      "  Downloading fastapi-0.98.0-py3-none-any.whl (56 kB)\n",
      "     ---------------------------------------- 0.0/57.0 kB ? eta -:--:--\n",
      "     ---------------------------- ----------- 41.0/57.0 kB ? eta -:--:--\n",
      "     ---------------------------------------- 57.0/57.0 kB 2.9 MB/s eta 0:00:00\n",
      "Collecting requests\n",
      "  Using cached requests-2.31.0-py3-none-any.whl (62 kB)\n",
      "Collecting semantic-version\n",
      "  Using cached semantic_version-2.10.0-py2.py3-none-any.whl (15 kB)\n",
      "Collecting pydub\n",
      "  Using cached pydub-0.25.1-py2.py3-none-any.whl (32 kB)\n",
      "Requirement already satisfied: pandas in c:\\users\\ronak\\appdata\\local\\programs\\python\\python310\\lib\\site-packages (from gradio) (1.5.0)\n",
      "Collecting httpx\n",
      "  Using cached httpx-0.24.1-py3-none-any.whl (75 kB)\n",
      "Collecting pydantic\n",
      "  Downloading pydantic-1.10.9-cp310-cp310-win_amd64.whl (2.1 MB)\n",
      "     ---------------------------------------- 0.0/2.1 MB ? eta -:--:--\n",
      "     ------ --------------------------------- 0.4/2.1 MB 7.8 MB/s eta 0:00:01\n",
      "     ------------- -------------------------- 0.7/2.1 MB 5.2 MB/s eta 0:00:01\n",
      "     ---------------- ----------------------- 0.8/2.1 MB 4.9 MB/s eta 0:00:01\n",
      "     ------------------ --------------------- 1.0/2.1 MB 4.2 MB/s eta 0:00:01\n",
      "     --------------------- ------------------ 1.2/2.1 MB 4.1 MB/s eta 0:00:01\n",
      "     ------------------------- -------------- 1.4/2.1 MB 3.7 MB/s eta 0:00:01\n",
      "     ---------------------------- ----------- 1.5/2.1 MB 3.9 MB/s eta 0:00:01\n",
      "     ------------------------------- -------- 1.6/2.1 MB 3.7 MB/s eta 0:00:01\n",
      "     ----------------------------------- ---- 1.9/2.1 MB 3.4 MB/s eta 0:00:01\n",
      "     -------------------------------------- - 2.0/2.1 MB 3.4 MB/s eta 0:00:01\n",
      "     ---------------------------------------- 2.1/2.1 MB 3.1 MB/s eta 0:00:00\n",
      "Collecting pyyaml\n",
      "  Downloading PyYAML-6.0-cp310-cp310-win_amd64.whl (151 kB)\n",
      "     ---------------------------------------- 0.0/151.7 kB ? eta -:--:--\n",
      "     -------------------------------------- 151.7/151.7 kB 4.6 MB/s eta 0:00:00\n",
      "Collecting aiohttp\n",
      "  Downloading aiohttp-3.8.4-cp310-cp310-win_amd64.whl (319 kB)\n",
      "     ---------------------------------------- 0.0/319.8 kB ? eta -:--:--\n",
      "     -------------- ----------------------- 122.9/319.8 kB 3.6 MB/s eta 0:00:01\n",
      "     ------------------------------ ------- 256.0/319.8 kB 3.2 MB/s eta 0:00:01\n",
      "     ------------------------------------ - 307.2/319.8 kB 2.7 MB/s eta 0:00:01\n",
      "     -------------------------------------- 319.8/319.8 kB 1.6 MB/s eta 0:00:00\n",
      "Collecting orjson\n",
      "  Downloading orjson-3.9.1-cp310-none-win_amd64.whl (191 kB)\n",
      "     ---------------------------------------- 0.0/191.7 kB ? eta -:--:--\n",
      "     ------------------------------------ - 184.3/191.7 kB 5.6 MB/s eta 0:00:01\n",
      "     -------------------------------------- 191.7/191.7 kB 3.9 MB/s eta 0:00:00\n",
      "Requirement already satisfied: pygments>=2.12.0 in c:\\users\\ronak\\appdata\\roaming\\python\\python310\\site-packages (from gradio) (2.15.1)\n",
      "Collecting uvicorn>=0.14.0\n",
      "  Using cached uvicorn-0.22.0-py3-none-any.whl (58 kB)\n",
      "Collecting gradio-client>=0.2.7\n",
      "  Downloading gradio_client-0.2.7-py3-none-any.whl (288 kB)\n",
      "     ---------------------------------------- 0.0/288.4 kB ? eta -:--:--\n",
      "     ---- ----------------------------------- 30.7/288.4 kB ? eta -:--:--\n",
      "     ------------------------- ------------ 194.6/288.4 kB 2.4 MB/s eta 0:00:01\n",
      "     -------------------------------------- 288.4/288.4 kB 2.0 MB/s eta 0:00:00\n",
      "Collecting huggingface-hub>=0.14.0\n",
      "  Using cached huggingface_hub-0.15.1-py3-none-any.whl (236 kB)\n",
      "Requirement already satisfied: matplotlib in c:\\users\\ronak\\appdata\\local\\programs\\python\\python310\\lib\\site-packages (from gradio) (3.6.0)\n",
      "Collecting python-multipart\n",
      "  Using cached python_multipart-0.0.6-py3-none-any.whl (45 kB)\n",
      "Requirement already satisfied: markupsafe in c:\\users\\ronak\\appdata\\local\\programs\\python\\python310\\lib\\site-packages (from gradio) (2.1.3)\n",
      "Requirement already satisfied: jinja2 in c:\\users\\ronak\\appdata\\local\\programs\\python\\python310\\lib\\site-packages (from gradio) (3.1.2)\n",
      "Collecting websockets>=10.0\n",
      "  Downloading websockets-11.0.3-cp310-cp310-win_amd64.whl (124 kB)\n",
      "     ---------------------------------------- 0.0/124.7 kB ? eta -:--:--\n",
      "     -------------------------------------  122.9/124.7 kB 7.5 MB/s eta 0:00:01\n",
      "     -------------------------------------- 124.7/124.7 kB 1.2 MB/s eta 0:00:00\n",
      "Requirement already satisfied: numpy in c:\\users\\ronak\\appdata\\local\\programs\\python\\python310\\lib\\site-packages (from gradio) (1.23.3)\n",
      "Collecting ffmpy\n",
      "  Using cached ffmpy-0.3.0.tar.gz (4.8 kB)\n",
      "  Preparing metadata (setup.py): started\n",
      "  Preparing metadata (setup.py): finished with status 'done'\n",
      "Requirement already satisfied: typing-extensions>=4.0.1 in c:\\users\\ronak\\appdata\\local\\programs\\python\\python310\\lib\\site-packages (from altair>=4.2.0->gradio) (4.6.3)\n",
      "Collecting jsonschema>=3.0\n",
      "  Using cached jsonschema-4.17.3-py3-none-any.whl (90 kB)\n",
      "Collecting toolz\n",
      "  Using cached toolz-0.12.0-py3-none-any.whl (55 kB)\n",
      "Requirement already satisfied: packaging in c:\\users\\ronak\\appdata\\local\\programs\\python\\python310\\lib\\site-packages (from gradio-client>=0.2.7->gradio) (21.3)\n",
      "Collecting fsspec\n",
      "  Using cached fsspec-2023.6.0-py3-none-any.whl (163 kB)\n",
      "Collecting tqdm>=4.42.1\n",
      "  Using cached tqdm-4.65.0-py3-none-any.whl (77 kB)\n",
      "Requirement already satisfied: filelock in c:\\users\\ronak\\appdata\\local\\programs\\python\\python310\\lib\\site-packages (from huggingface-hub>=0.14.0->gradio) (3.8.0)\n",
      "Collecting mdurl~=0.1\n",
      "  Using cached mdurl-0.1.2-py3-none-any.whl (10.0 kB)\n",
      "Collecting linkify-it-py<3,>=1\n",
      "  Using cached linkify_it_py-2.0.2-py3-none-any.whl (19 kB)\n",
      "Collecting mdit-py-plugins<=0.3.3\n",
      "  Using cached mdit_py_plugins-0.3.2-py3-none-any.whl (50 kB)\n",
      "  Using cached mdit_py_plugins-0.3.1-py3-none-any.whl (46 kB)\n",
      "  Using cached mdit_py_plugins-0.3.0-py3-none-any.whl (43 kB)\n",
      "  Using cached mdit_py_plugins-0.2.8-py3-none-any.whl (41 kB)\n",
      "  Using cached mdit_py_plugins-0.2.7-py3-none-any.whl (41 kB)\n",
      "  Using cached mdit_py_plugins-0.2.6-py3-none-any.whl (39 kB)\n",
      "  Using cached mdit_py_plugins-0.2.5-py3-none-any.whl (39 kB)\n",
      "  Using cached mdit_py_plugins-0.2.4-py3-none-any.whl (39 kB)\n",
      "  Using cached mdit_py_plugins-0.2.3-py3-none-any.whl (39 kB)\n",
      "  Using cached mdit_py_plugins-0.2.2-py3-none-any.whl (39 kB)\n",
      "  Using cached mdit_py_plugins-0.2.1-py3-none-any.whl (38 kB)\n",
      "  Using cached mdit_py_plugins-0.2.0-py3-none-any.whl (38 kB)\n",
      "  Using cached mdit_py_plugins-0.1.0-py3-none-any.whl (37 kB)\n",
      "INFO: pip is looking at multiple versions of markdown-it-py[linkify] to determine which version is compatible with other requirements. This could take a while.\n",
      "Collecting markdown-it-py[linkify]>=2.0.0\n",
      "  Using cached markdown_it_py-2.2.0-py3-none-any.whl (84 kB)\n",
      "Requirement already satisfied: pytz>=2020.1 in c:\\users\\ronak\\appdata\\local\\programs\\python\\python310\\lib\\site-packages (from pandas->gradio) (2022.2.1)\n",
      "Requirement already satisfied: python-dateutil>=2.8.1 in c:\\users\\ronak\\appdata\\local\\programs\\python\\python310\\lib\\site-packages (from pandas->gradio) (2.8.2)\n",
      "Collecting click>=7.0\n",
      "  Using cached click-8.1.3-py3-none-any.whl (96 kB)\n",
      "Collecting h11>=0.8\n",
      "  Using cached h11-0.14.0-py3-none-any.whl (58 kB)\n",
      "Collecting async-timeout<5.0,>=4.0.0a3\n",
      "  Using cached async_timeout-4.0.2-py3-none-any.whl (5.8 kB)\n",
      "Collecting charset-normalizer<4.0,>=2.0\n",
      "  Using cached charset_normalizer-3.1.0-cp310-cp310-win_amd64.whl (97 kB)\n",
      "Collecting yarl<2.0,>=1.0\n",
      "  Downloading yarl-1.9.2-cp310-cp310-win_amd64.whl (61 kB)\n",
      "     ---------------------------------------- 0.0/61.0 kB ? eta -:--:--\n",
      "     ---------------------------------------- 61.0/61.0 kB 3.4 MB/s eta 0:00:00\n",
      "Collecting multidict<7.0,>=4.5\n",
      "  Downloading multidict-6.0.4-cp310-cp310-win_amd64.whl (28 kB)\n",
      "Collecting attrs>=17.3.0\n",
      "  Using cached attrs-23.1.0-py3-none-any.whl (61 kB)\n",
      "Collecting frozenlist>=1.1.1\n",
      "  Downloading frozenlist-1.3.3-cp310-cp310-win_amd64.whl (33 kB)\n",
      "Collecting aiosignal>=1.1.2\n",
      "  Using cached aiosignal-1.3.1-py3-none-any.whl (7.6 kB)\n",
      "Collecting starlette<0.28.0,>=0.27.0\n",
      "  Using cached starlette-0.27.0-py3-none-any.whl (66 kB)\n",
      "Collecting httpcore<0.18.0,>=0.15.0\n",
      "  Using cached httpcore-0.17.2-py3-none-any.whl (72 kB)\n",
      "Collecting sniffio\n",
      "  Using cached sniffio-1.3.0-py3-none-any.whl (10 kB)\n",
      "Requirement already satisfied: certifi in c:\\users\\ronak\\appdata\\local\\programs\\python\\python310\\lib\\site-packages (from httpx->gradio) (2022.12.7)\n",
      "Collecting idna\n",
      "  Using cached idna-3.4-py3-none-any.whl (61 kB)\n",
      "Requirement already satisfied: kiwisolver>=1.0.1 in c:\\users\\ronak\\appdata\\local\\programs\\python\\python310\\lib\\site-packages (from matplotlib->gradio) (1.4.4)\n",
      "Requirement already satisfied: fonttools>=4.22.0 in c:\\users\\ronak\\appdata\\local\\programs\\python\\python310\\lib\\site-packages (from matplotlib->gradio) (4.37.2)\n",
      "Requirement already satisfied: cycler>=0.10 in c:\\users\\ronak\\appdata\\local\\programs\\python\\python310\\lib\\site-packages (from matplotlib->gradio) (0.11.0)\n",
      "Requirement already satisfied: pyparsing>=2.2.1 in c:\\users\\ronak\\appdata\\local\\programs\\python\\python310\\lib\\site-packages (from matplotlib->gradio) (3.0.9)\n",
      "Requirement already satisfied: contourpy>=1.0.1 in c:\\users\\ronak\\appdata\\local\\programs\\python\\python310\\lib\\site-packages (from matplotlib->gradio) (1.0.5)\n",
      "Collecting urllib3<3,>=1.21.1\n",
      "  Using cached urllib3-2.0.3-py3-none-any.whl (123 kB)\n",
      "Requirement already satisfied: colorama in c:\\users\\ronak\\appdata\\roaming\\python\\python310\\site-packages (from click>=7.0->uvicorn>=0.14.0->gradio) (0.4.6)\n",
      "Collecting anyio<5.0,>=3.0\n",
      "  Using cached anyio-3.7.0-py3-none-any.whl (80 kB)\n",
      "Collecting pyrsistent!=0.17.0,!=0.17.1,!=0.17.2,>=0.14.0\n",
      "  Using cached pyrsistent-0.19.3-cp310-cp310-win_amd64.whl (62 kB)\n",
      "Collecting uc-micro-py\n",
      "  Using cached uc_micro_py-1.0.2-py3-none-any.whl (6.2 kB)\n",
      "Requirement already satisfied: six>=1.5 in c:\\users\\ronak\\appdata\\local\\programs\\python\\python310\\lib\\site-packages (from python-dateutil>=2.8.1->pandas->gradio) (1.16.0)\n",
      "Collecting exceptiongroup\n",
      "  Using cached exceptiongroup-1.1.1-py3-none-any.whl (14 kB)\n",
      "Installing collected packages: pydub, ffmpy, websockets, urllib3, uc-micro-py, tqdm, toolz, sniffio, semantic-version, pyyaml, python-multipart, pyrsistent, pydantic, orjson, multidict, mdurl, idna, h11, fsspec, frozenlist, exceptiongroup, click, charset-normalizer, attrs, async-timeout, aiofiles, yarl, uvicorn, requests, markdown-it-py, linkify-it-py, jsonschema, anyio, aiosignal, starlette, mdit-py-plugins, huggingface-hub, httpcore, altair, aiohttp, httpx, fastapi, gradio-client, gradio\n",
      "  Running setup.py install for ffmpy: started\n",
      "  Running setup.py install for ffmpy: finished with status 'done'\n",
      "Successfully installed aiofiles-23.1.0 aiohttp-3.8.4 aiosignal-1.3.1 altair-5.0.1 anyio-3.7.0 async-timeout-4.0.2 attrs-23.1.0 charset-normalizer-3.1.0 click-8.1.3 exceptiongroup-1.1.1 fastapi-0.98.0 ffmpy-0.3.0 frozenlist-1.3.3 fsspec-2023.6.0 gradio-3.35.2 gradio-client-0.2.7 h11-0.14.0 httpcore-0.17.2 httpx-0.24.1 huggingface-hub-0.15.1 idna-3.4 jsonschema-4.17.3 linkify-it-py-2.0.2 markdown-it-py-2.2.0 mdit-py-plugins-0.3.3 mdurl-0.1.2 multidict-6.0.4 orjson-3.9.1 pydantic-1.10.9 pydub-0.25.1 pyrsistent-0.19.3 python-multipart-0.0.6 pyyaml-6.0 requests-2.31.0 semantic-version-2.10.0 sniffio-1.3.0 starlette-0.27.0 toolz-0.12.0 tqdm-4.65.0 uc-micro-py-1.0.2 urllib3-2.0.3 uvicorn-0.22.0 websockets-11.0.3 yarl-1.9.2\n",
      "Note: you may need to restart the kernel to use updated packages.\n"
     ]
    },
    {
     "name": "stderr",
     "output_type": "stream",
     "text": [
      "  DEPRECATION: ffmpy is being installed using the legacy 'setup.py install' method, because it does not have a 'pyproject.toml' and the 'wheel' package is not installed. pip 23.1 will enforce this behaviour change. A possible replacement is to enable the '--use-pep517' option. Discussion can be found at https://github.com/pypa/pip/issues/8559\n",
      "\n",
      "[notice] A new release of pip is available: 23.0 -> 23.1.2\n",
      "[notice] To update, run: python.exe -m pip install --upgrade pip\n"
     ]
    }
   ],
   "source": [
    "pip install gradio"
   ]
  },
  {
   "cell_type": "code",
   "execution_count": 4,
   "metadata": {},
   "outputs": [
    {
     "name": "stdout",
     "output_type": "stream",
     "text": [
      "Requirement already satisfied: opencv-python in c:\\users\\ronak\\appdata\\local\\programs\\python\\python310\\lib\\site-packages (4.7.0.72)\n",
      "Requirement already satisfied: numpy>=1.17.0 in c:\\users\\ronak\\appdata\\local\\programs\\python\\python310\\lib\\site-packages (from opencv-python) (1.23.3)\n",
      "Note: you may need to restart the kernel to use updated packages.\n"
     ]
    },
    {
     "name": "stderr",
     "output_type": "stream",
     "text": [
      "\n",
      "[notice] A new release of pip is available: 23.0 -> 23.1.2\n",
      "[notice] To update, run: python.exe -m pip install --upgrade pip\n"
     ]
    }
   ],
   "source": [
    "pip install opencv-python"
   ]
  },
  {
   "cell_type": "code",
   "execution_count": 7,
   "metadata": {},
   "outputs": [
    {
     "name": "stdout",
     "output_type": "stream",
     "text": [
      "Collecting MIDIUtil\n",
      "  Downloading MIDIUtil-1.2.1.tar.gz (1.0 MB)\n",
      "     ---------------------------------------- 0.0/1.0 MB ? eta -:--:--\n",
      "     - -------------------------------------- 0.0/1.0 MB ? eta -:--:--\n",
      "     - -------------------------------------- 0.0/1.0 MB ? eta -:--:--\n",
      "     - -------------------------------------- 0.0/1.0 MB ? eta -:--:--\n",
      "     - -------------------------------------- 0.0/1.0 MB ? eta -:--:--\n",
      "     - -------------------------------------- 0.0/1.0 MB ? eta -:--:--\n",
      "     - -------------------------------------- 0.0/1.0 MB ? eta -:--:--\n",
      "     - -------------------------------------- 0.0/1.0 MB ? eta -:--:--\n",
      "     - -------------------------------------- 0.0/1.0 MB ? eta -:--:--\n",
      "     - -------------------------------------- 0.0/1.0 MB ? eta -:--:--\n",
      "     --- ------------------------------------ 0.1/1.0 MB 109.3 kB/s eta 0:00:09\n",
      "     --- ------------------------------------ 0.1/1.0 MB 124.9 kB/s eta 0:00:08\n",
      "     --- ------------------------------------ 0.1/1.0 MB 124.9 kB/s eta 0:00:08\n",
      "     --- ------------------------------------ 0.1/1.0 MB 124.9 kB/s eta 0:00:08\n",
      "     ---- ----------------------------------- 0.1/1.0 MB 126.6 kB/s eta 0:00:08\n",
      "     ------ --------------------------------- 0.2/1.0 MB 163.9 kB/s eta 0:00:06\n",
      "     ------- -------------------------------- 0.2/1.0 MB 178.8 kB/s eta 0:00:05\n",
      "     -------- ------------------------------- 0.2/1.0 MB 196.7 kB/s eta 0:00:05\n",
      "     --------- ------------------------------ 0.2/1.0 MB 209.4 kB/s eta 0:00:04\n",
      "     ----------- ---------------------------- 0.3/1.0 MB 232.9 kB/s eta 0:00:04\n",
      "     ------------ --------------------------- 0.3/1.0 MB 257.2 kB/s eta 0:00:03\n",
      "     ---------------- ----------------------- 0.4/1.0 MB 300.7 kB/s eta 0:00:03\n",
      "     ------------------- -------------------- 0.5/1.0 MB 338.9 kB/s eta 0:00:02\n",
      "     ----------------------- ---------------- 0.6/1.0 MB 392.0 kB/s eta 0:00:02\n",
      "     -------------------------- ------------- 0.7/1.0 MB 411.4 kB/s eta 0:00:01\n",
      "     --------------------------- ------------ 0.7/1.0 MB 424.6 kB/s eta 0:00:01\n",
      "     ----------------------------- ---------- 0.7/1.0 MB 445.2 kB/s eta 0:00:01\n",
      "     -------------------------------- ------- 0.8/1.0 MB 462.3 kB/s eta 0:00:01\n",
      "     ----------------------------------- ---- 0.9/1.0 MB 487.4 kB/s eta 0:00:01\n",
      "     ---------------------------------------  1.0/1.0 MB 512.8 kB/s eta 0:00:01\n",
      "     ---------------------------------------- 1.0/1.0 MB 505.3 kB/s eta 0:00:00\n",
      "  Preparing metadata (setup.py): started\n",
      "  Preparing metadata (setup.py): finished with status 'done'\n",
      "Installing collected packages: MIDIUtil\n",
      "  Running setup.py install for MIDIUtil: started\n",
      "  Running setup.py install for MIDIUtil: finished with status 'done'\n",
      "Successfully installed MIDIUtil-1.2.1\n",
      "Note: you may need to restart the kernel to use updated packages.\n"
     ]
    },
    {
     "name": "stderr",
     "output_type": "stream",
     "text": [
      "  DEPRECATION: MIDIUtil is being installed using the legacy 'setup.py install' method, because it does not have a 'pyproject.toml' and the 'wheel' package is not installed. pip 23.1 will enforce this behaviour change. A possible replacement is to enable the '--use-pep517' option. Discussion can be found at https://github.com/pypa/pip/issues/8559\n",
      "\n",
      "[notice] A new release of pip is available: 23.0 -> 23.1.2\n",
      "[notice] To update, run: python.exe -m pip install --upgrade pip\n"
     ]
    }
   ],
   "source": [
    "pip install MIDIUtil"
   ]
  },
  {
   "cell_type": "code",
   "execution_count": 9,
   "metadata": {},
   "outputs": [
    {
     "name": "stdout",
     "output_type": "stream",
     "text": [
      "Collecting mido\n",
      "  Downloading mido-1.2.10-py2.py3-none-any.whl (51 kB)\n",
      "     ---------------------------------------- 0.0/51.1 kB ? eta -:--:--\n",
      "     ---------------------------------------- 0.0/51.1 kB ? eta -:--:--\n",
      "     ---------------------------------------- 0.0/51.1 kB ? eta -:--:--\n",
      "     -------- ------------------------------- 10.2/51.1 kB ? eta -:--:--\n",
      "     -------------------------------- ------- 41.0/51.1 kB 2.0 MB/s eta 0:00:01\n",
      "     -------------------------------------- 51.1/51.1 kB 291.8 kB/s eta 0:00:00\n",
      "Installing collected packages: mido\n",
      "Successfully installed mido-1.2.10\n",
      "Note: you may need to restart the kernel to use updated packages.\n"
     ]
    },
    {
     "name": "stderr",
     "output_type": "stream",
     "text": [
      "\n",
      "[notice] A new release of pip is available: 23.0 -> 23.1.2\n",
      "[notice] To update, run: python.exe -m pip install --upgrade pip\n"
     ]
    }
   ],
   "source": [
    "pip install mido"
   ]
  },
  {
   "cell_type": "code",
   "execution_count": 25,
   "metadata": {},
   "outputs": [
    {
     "name": "stderr",
     "output_type": "stream",
     "text": [
      "c:\\Users\\Ronak\\AppData\\Local\\Programs\\Python\\Python310\\lib\\site-packages\\gradio\\inputs.py:259: UserWarning: Usage of gradio.inputs is deprecated, and will not be supported in the future, please import your component from gradio.components\n",
      "  warnings.warn(\n",
      "c:\\Users\\Ronak\\AppData\\Local\\Programs\\Python\\Python310\\lib\\site-packages\\gradio\\inputs.py:262: UserWarning: `optional` parameter is deprecated, and it has no effect\n",
      "  super().__init__(\n",
      "c:\\Users\\Ronak\\AppData\\Local\\Programs\\Python\\Python310\\lib\\site-packages\\gradio\\outputs.py:98: UserWarning: Usage of gradio.outputs is deprecated, and will not be supported in the future, please import your components from gradio.components\n",
      "  warnings.warn(\n"
     ]
    },
    {
     "name": "stdout",
     "output_type": "stream",
     "text": [
      "Running on local URL:  http://127.0.0.1:7871\n",
      "\n",
      "To create a public link, set `share=True` in `launch()`.\n"
     ]
    },
    {
     "data": {
      "text/html": [
       "<div><iframe src=\"http://127.0.0.1:7871/\" width=\"100%\" height=\"500\" allow=\"autoplay; camera; microphone; clipboard-read; clipboard-write;\" frameborder=\"0\" allowfullscreen></iframe></div>"
      ],
      "text/plain": [
       "<IPython.core.display.HTML object>"
      ]
     },
     "metadata": {},
     "output_type": "display_data"
    },
    {
     "data": {
      "text/plain": []
     },
     "execution_count": 25,
     "metadata": {},
     "output_type": "execute_result"
    }
   ],
   "source": [
    "import gradio as gr\n",
    "import cv2\n",
    "import numpy as np\n",
    "import mido\n",
    "from mido import Message, MidiFile, MidiTrack\n",
    "\n",
    "\n",
    "def preprocess_image(image):\n",
    "    preprocessed_image = image\n",
    "    return preprocessed_image\n",
    "\n",
    "\n",
    "def extract_visual_features(image):\n",
    "    visual_features = np.random.rand(10)  \n",
    "    return visual_features\n",
    "\n",
    "\n",
    "def map_visual_features_to_music(visual_features):\n",
    "    music_elements = [60, 62, 64, 65, 67, 69, 71]  \n",
    "    return music_elements\n",
    "\n",
    "\n",
    "def generate_music(music_elements):\n",
    "    music = music_elements  \n",
    "    return music\n",
    "\n",
    "def save_music_as_midi(music, output_file):\n",
    "    \n",
    "    mid = MidiFile()\n",
    "    track = MidiTrack()\n",
    "    mid.tracks.append(track)\n",
    "    \n",
    "    for pitch in music:\n",
    "        note_on = Message('note_on', note=pitch, velocity=64, time=0)\n",
    "        note_off = Message('note_off', note=pitch, velocity=64, time=100)\n",
    "        track.append(note_on)\n",
    "        track.append(note_off)\n",
    "    \n",
    "    mid.save(output_file)\n",
    "    return output_file\n",
    "\n",
    "\n",
    "def generate_music_from_image(image):\n",
    "    preprocessed_image = preprocess_image(image)\n",
    "    visual_features = extract_visual_features(preprocessed_image)\n",
    "    music_elements = map_visual_features_to_music(visual_features)\n",
    "    music = generate_music(music_elements)\n",
    "    midi_file = save_music_as_midi(music, \"generated_music.mid\")\n",
    "    return midi_file\n",
    "\n",
    "image_input = gr.inputs.Image(shape=(224, 224))\n",
    "output_file = gr.outputs.File(label=\"Download MIDI\")\n",
    "\n",
    "iface = gr.Interface(fn=generate_music_from_image, inputs=image_input, outputs=output_file)\n",
    "iface.launch()"
   ]
  },
  {
   "cell_type": "code",
   "execution_count": 11,
   "metadata": {},
   "outputs": [
    {
     "name": "stdout",
     "output_type": "stream",
     "text": [
      "Collecting midi2audioNote: you may need to restart the kernel to use updated packages.\n",
      "\n",
      "  Downloading midi2audio-0.1.1-py2.py3-none-any.whl (8.7 kB)\n",
      "Installing collected packages: midi2audio\n",
      "Successfully installed midi2audio-0.1.1\n"
     ]
    },
    {
     "name": "stderr",
     "output_type": "stream",
     "text": [
      "\n",
      "[notice] A new release of pip is available: 23.0 -> 23.1.2\n",
      "[notice] To update, run: python.exe -m pip install --upgrade pip\n"
     ]
    }
   ],
   "source": [
    "pip install midi2audio"
   ]
  },
  {
   "cell_type": "code",
   "execution_count": 17,
   "metadata": {},
   "outputs": [
    {
     "name": "stdout",
     "output_type": "stream",
     "text": [
      "Collecting ffmpeg-python\n",
      "  Using cached ffmpeg_python-0.2.0-py3-none-any.whl (25 kB)\n",
      "Collecting future\n",
      "  Using cached future-0.18.3.tar.gz (840 kB)\n",
      "  Preparing metadata (setup.py): started\n",
      "  Preparing metadata (setup.py): finished with status 'done'\n",
      "Installing collected packages: future, ffmpeg-python\n",
      "  Running setup.py install for future: started\n",
      "  Running setup.py install for future: finished with status 'done'\n",
      "Successfully installed ffmpeg-python-0.2.0 future-0.18.3\n",
      "Note: you may need to restart the kernel to use updated packages.\n"
     ]
    },
    {
     "name": "stderr",
     "output_type": "stream",
     "text": [
      "  DEPRECATION: future is being installed using the legacy 'setup.py install' method, because it does not have a 'pyproject.toml' and the 'wheel' package is not installed. pip 23.1 will enforce this behaviour change. A possible replacement is to enable the '--use-pep517' option. Discussion can be found at https://github.com/pypa/pip/issues/8559\n",
      "\n",
      "[notice] A new release of pip is available: 23.0 -> 23.1.2\n",
      "[notice] To update, run: python.exe -m pip install --upgrade pip\n"
     ]
    }
   ],
   "source": [
    "pip install ffmpeg-python"
   ]
  },
  {
   "cell_type": "code",
   "execution_count": 18,
   "metadata": {},
   "outputs": [
    {
     "name": "stdout",
     "output_type": "stream",
     "text": [
      "Requirement already satisfied: pydub in c:\\users\\ronak\\appdata\\local\\programs\\python\\python310\\lib\\site-packages (0.25.1)\n",
      "Note: you may need to restart the kernel to use updated packages.\n"
     ]
    },
    {
     "name": "stderr",
     "output_type": "stream",
     "text": [
      "\n",
      "[notice] A new release of pip is available: 23.0 -> 23.1.2\n",
      "[notice] To update, run: python.exe -m pip install --upgrade pip\n"
     ]
    }
   ],
   "source": [
    "pip install pydub"
   ]
  },
  {
   "cell_type": "code",
   "execution_count": 23,
   "metadata": {},
   "outputs": [
    {
     "name": "stdout",
     "output_type": "stream",
     "text": [
      "Requirement already satisfied: pillow in c:\\users\\ronak\\appdata\\local\\programs\\python\\python310\\lib\\site-packages (9.2.0)Note: you may need to restart the kernel to use updated packages.\n"
     ]
    },
    {
     "name": "stderr",
     "output_type": "stream",
     "text": [
      "\n",
      "[notice] A new release of pip is available: 23.0 -> 23.1.2\n",
      "[notice] To update, run: python.exe -m pip install --upgrade pip\n"
     ]
    },
    {
     "name": "stdout",
     "output_type": "stream",
     "text": [
      "\n"
     ]
    }
   ],
   "source": [
    "pip install pillow"
   ]
  }
 ],
 "metadata": {
  "kernelspec": {
   "display_name": "Python 3",
   "language": "python",
   "name": "python3"
  },
  "language_info": {
   "codemirror_mode": {
    "name": "ipython",
    "version": 3
   },
   "file_extension": ".py",
   "mimetype": "text/x-python",
   "name": "python",
   "nbconvert_exporter": "python",
   "pygments_lexer": "ipython3",
   "version": "3.10.5"
  },
  "orig_nbformat": 4
 },
 "nbformat": 4,
 "nbformat_minor": 2
}
